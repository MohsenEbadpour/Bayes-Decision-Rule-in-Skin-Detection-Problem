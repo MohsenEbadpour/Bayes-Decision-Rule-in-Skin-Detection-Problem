{
 "cells": [
  {
   "cell_type": "code",
   "execution_count": 1,
   "metadata": {},
   "outputs": [],
   "source": [
    "import glob\n",
    "import cv2\n",
    "import numpy as np\n",
    "import matplotlib.pyplot as plt \n",
    "import math\n",
    "import random\n",
    "import pandas as pd\n",
    "from scipy import stats\n",
    "from sklearn import metrics\n",
    "plt.rcParams[\"figure.figsize\"] = (20,12)\n",
    "\n",
    "import seaborn as sns\n",
    "sns.set_theme(style=\"darkgrid\")\n"
   ]
  },
  {
   "cell_type": "code",
   "execution_count": 2,
   "metadata": {},
   "outputs": [],
   "source": [
    "# loading images\n",
    "train_img = [cv2.imread(file) for file in glob.glob('./P6/pratheepan/train/set1/images/*')]\n",
    "train_label = [cv2.imread(file) for file in glob.glob('./P6/pratheepan/train/set1/groundtruth/*')]"
   ]
  },
  {
   "cell_type": "code",
   "execution_count": 3,
   "metadata": {},
   "outputs": [],
   "source": [
    "# Calculating Prior prob\n",
    "P_skin = 0\n",
    "P_non_skin = 0\n",
    "\n",
    "skin_pix = []\n",
    "non_skin_pix = []\n",
    "\n",
    "for i in range(len(train_label)):\n",
    "    for _ in range(train_label[i].shape[0]):\n",
    "        for __ in range(train_label[i].shape[1]):\n",
    "            if train_label[i][_][__][0] == 255 :\n",
    "                P_skin += 1\n",
    "                skin_pix.append(train_img[i][_][__])\n",
    "            else:\n",
    "                P_non_skin +=1\n",
    "                non_skin_pix.append(train_img[i][_][__])\n",
    "                \n",
    "P_skin,P_non_skin =  P_skin/(P_skin+P_non_skin), P_non_skin/(P_skin+P_non_skin)    \n"
   ]
  },
  {
   "cell_type": "code",
   "execution_count": 5,
   "metadata": {},
   "outputs": [
    {
     "name": "stdout",
     "output_type": "stream",
     "text": [
      "Prior prob for skin class: 0.27507549132497106\n",
      "Prior prob for non-skin class: 0.724924508675029\n",
      "\n",
      "Mean for skin class: 147.37247616199463\n",
      "Mean for non-skin class: 110.7761494932925\n",
      "\n",
      "Variance for skin class: 3384.250845355356\n",
      "Variance for non-skin class: 7517.546037396296\n"
     ]
    }
   ],
   "source": [
    "print(\"Prior prob for skin class:\",P_skin)\n",
    "print(\"Prior prob for non-skin class:\",P_non_skin)\n",
    "\n",
    "# Mean calculation\n",
    "non_skin_mean = np.mean(non_skin_pix)\n",
    "skin_mean = np.mean(skin_pix)\n",
    "\n",
    "# Variance calculation\n",
    "non_skin_var = np.var(non_skin_pix)\n",
    "skin_var = np.var(skin_pix)\n",
    "\n",
    "print(\"\\nMean for skin class:\",skin_mean)\n",
    "print(\"Mean for non-skin class:\",non_skin_mean)\n",
    "\n",
    "print(\"\\nVariance for skin class:\",skin_var)\n",
    "print(\"Variance for non-skin class:\",non_skin_var)"
   ]
  },
  {
   "cell_type": "code",
   "execution_count": null,
   "metadata": {},
   "outputs": [],
   "source": []
  }
 ],
 "metadata": {
  "kernelspec": {
   "display_name": "Python 3",
   "language": "python",
   "name": "python3"
  },
  "language_info": {
   "codemirror_mode": {
    "name": "ipython",
    "version": 3
   },
   "file_extension": ".py",
   "mimetype": "text/x-python",
   "name": "python",
   "nbconvert_exporter": "python",
   "pygments_lexer": "ipython3",
   "version": "3.8.2"
  }
 },
 "nbformat": 4,
 "nbformat_minor": 4
}
